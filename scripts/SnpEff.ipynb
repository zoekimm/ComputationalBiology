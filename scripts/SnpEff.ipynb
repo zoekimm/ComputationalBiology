{
  "nbformat": 4,
  "nbformat_minor": 0,
  "metadata": {
    "colab": {
      "name": "SnpEff.ipynb",
      "provenance": []
    },
    "kernelspec": {
      "name": "python3",
      "display_name": "Python 3"
    },
    "language_info": {
      "name": "python"
    }
  },
  "cells": [
    {
      "cell_type": "markdown",
      "source": [
        "## Download VCF files "
      ],
      "metadata": {
        "id": "LCxWWzoQ7NrT"
      }
    },
    {
      "cell_type": "code",
      "source": [
        "#Sample 1\n",
        "!wget -O chm13_filtered_1.vcf https://raw.githubusercontent.com/ctsahn/cbr/main/sample1/chm13_filtered.vcf\n",
        "!wget -O grch38_filtered_1.vcf https://raw.githubusercontent.com/ctsahn/cbr/main/sample1/grch38_filtered.vcf"
      ],
      "metadata": {
        "id": "wszfNFgq7MKr"
      },
      "execution_count": null,
      "outputs": []
    },
    {
      "cell_type": "code",
      "source": [
        "#Sample 2\n",
        "!wget -O chm13_filtered_2.vcf https://raw.githubusercontent.com/ctsahn/cbr/main/sample2/chm13_filtered.vcf\n",
        "!wget -O grch38_filtered_2.vcf https://raw.githubusercontent.com/ctsahn/cbr/main/sample2/grch38_filtered.vcf"
      ],
      "metadata": {
        "id": "f9ZAvWvv7478"
      },
      "execution_count": null,
      "outputs": []
    },
    {
      "cell_type": "code",
      "source": [
        "#Sample 3\n",
        "!wget -O chm13_filtered_3.vcf https://raw.githubusercontent.com/ctsahn/cbr/main/sample3/chm13_filtered.vcf\n",
        "!wget -O grch38_filtered_3.vcf https://raw.githubusercontent.com/ctsahn/cbr/main/sample3/grch38_filtered.vcf"
      ],
      "metadata": {
        "id": "Gyof6NpS75Cr"
      },
      "execution_count": null,
      "outputs": []
    },
    {
      "cell_type": "code",
      "source": [
        "#Sample 4\n",
        "!wget -O chm13_filtered_4.vcf https://raw.githubusercontent.com/ctsahn/cbr/main/sample4/chm13_filtered.vcf\n",
        "!wget -O grch38_filtered_4.vcf https://raw.githubusercontent.com/ctsahn/cbr/main/sample4/grch38_filtered.vcf"
      ],
      "metadata": {
        "id": "4UQUNsTy75Iw"
      },
      "execution_count": null,
      "outputs": []
    },
    {
      "cell_type": "markdown",
      "source": [
        "## SnpEff \n",
        "---\n",
        "**Website:** https://pcingola.github.io/SnpEff/download/ \\\\\n",
        "**Input:** VCF file \\\\\n",
        "**Output:** VCF file (annotation of variants based on their positions and the calculation of the coding effects of each genetic variant on the reference genome)\n"
      ],
      "metadata": {
        "id": "eJqkwF3u8CpP"
      }
    },
    {
      "cell_type": "code",
      "execution_count": null,
      "metadata": {
        "id": "Jc4I5YkJ7CQG"
      },
      "outputs": [],
      "source": [
        "!wget java -jar snpEff.jar "
      ]
    },
    {
      "cell_type": "code",
      "source": [
        "!java -jar snpEff.jar databases #Check databases for the reference genome"
      ],
      "metadata": {
        "id": "IyPu3bPT7IdH"
      },
      "execution_count": null,
      "outputs": []
    },
    {
      "cell_type": "code",
      "source": [
        "!java -Xmx4g -jar snpEff.jar -v GRCh38.99 grch38_filtered_1.vcf >grch38_filtered_1.ann.vcf #GRCh38"
      ],
      "metadata": {
        "id": "_NYP8g1v7LWR"
      },
      "execution_count": null,
      "outputs": []
    }
  ]
}